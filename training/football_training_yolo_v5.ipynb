{
 "cells": [
  {
   "cell_type": "markdown",
   "metadata": {},
   "source": []
  },
  {
   "cell_type": "markdown",
   "metadata": {},
   "source": [
    "# Get Started"
   ]
  },
  {
   "cell_type": "code",
   "execution_count": 1,
   "metadata": {},
   "outputs": [
    {
     "data": {
      "text/plain": [
       "'football-players-detection-1/football-players-detection-1/valid'"
      ]
     },
     "execution_count": 1,
     "metadata": {},
     "output_type": "execute_result"
    }
   ],
   "source": [
    "import shutil\n",
    "\n",
    "shutil.move('football-players-detection-1/train',\n",
    "            'football-players-detection-1/football-players-detection-1/train'\n",
    "            )\n",
    "\n",
    "shutil.move('football-players-detection-1/test',\n",
    "            'football-players-detection-1/football-players-detection-1/test'\n",
    "            )\n",
    "\n",
    "shutil.move('football-players-detection-1/valid',\n",
    "            'football-players-detection-1/football-players-detection-1/valid'\n",
    "            )"
   ]
  },
  {
   "cell_type": "markdown",
   "metadata": {},
   "source": [
    "# Training"
   ]
  },
  {
   "cell_type": "code",
   "execution_count": 3,
   "metadata": {},
   "outputs": [
    {
     "name": "stdout",
     "output_type": "stream",
     "text": [
      "PRO TIP 💡 Replace 'model=yolov5x.pt' with new 'model=yolov5xu.pt'.\n",
      "YOLOv5 'u' models are trained with https://github.com/ultralytics/ultralytics and feature improved performance vs standard YOLOv5 models trained with https://github.com/ultralytics/yolov5.\n",
      "\n",
      "Downloading https://github.com/ultralytics/assets/releases/download/v8.2.0/yolov5xu.pt to 'yolov5xu.pt'...\n",
      "Ultralytics YOLOv8.2.87 🚀 Python-3.11.6 torch-2.3.1+cpu CPU (AMD Ryzen 5 6600H with Radeon Graphics)\n",
      "\u001b[34m\u001b[1mengine\\trainer: \u001b[0mtask=detect, mode=train, model=yolov5x.pt, data={dataset.location}/data.yaml, epochs=100, time=None, patience=100, batch=16, imgsz=640, save=True, save_period=-1, cache=False, device=None, workers=8, project=None, name=train, exist_ok=False, pretrained=True, optimizer=auto, verbose=True, seed=0, deterministic=True, single_cls=False, rect=False, cos_lr=False, close_mosaic=10, resume=False, amp=True, fraction=1.0, profile=False, freeze=None, multi_scale=False, overlap_mask=True, mask_ratio=4, dropout=0.0, val=True, split=val, save_json=False, save_hybrid=False, conf=None, iou=0.7, max_det=300, half=False, dnn=False, plots=True, source=None, vid_stride=1, stream_buffer=False, visualize=False, augment=False, agnostic_nms=False, classes=None, retina_masks=False, embed=None, show=False, save_frames=False, save_txt=False, save_conf=False, save_crop=False, show_labels=True, show_conf=True, show_boxes=True, line_width=None, format=torchscript, keras=False, optimize=False, int8=False, dynamic=False, simplify=False, opset=None, workspace=4, nms=False, lr0=0.01, lrf=0.01, momentum=0.937, weight_decay=0.0005, warmup_epochs=3.0, warmup_momentum=0.8, warmup_bias_lr=0.1, box=7.5, cls=0.5, dfl=1.5, pose=12.0, kobj=1.0, label_smoothing=0.0, nbs=64, hsv_h=0.015, hsv_s=0.7, hsv_v=0.4, degrees=0.0, translate=0.1, scale=0.5, shear=0.0, perspective=0.0, flipud=0.0, fliplr=0.5, bgr=0.0, mosaic=1.0, mixup=0.0, copy_paste=0.0, auto_augment=randaugment, erasing=0.4, crop_fraction=1.0, cfg=None, tracker=botsort.yaml, save_dir=runs\\detect\\train\n"
     ]
    },
    {
     "name": "stderr",
     "output_type": "stream",
     "text": [
      "\n",
      "  0%|          | 0.00/186M [00:00<?, ?B/s]\n",
      "  0%|          | 128k/186M [00:00<04:04, 798kB/s]\n",
      "  0%|          | 384k/186M [00:00<02:05, 1.55MB/s]\n",
      "  0%|          | 768k/186M [00:00<01:21, 2.38MB/s]\n",
      "  1%|          | 1.62M/186M [00:00<00:41, 4.63MB/s]\n",
      "  1%|▏         | 2.62M/186M [00:00<00:31, 6.15MB/s]\n",
      "  2%|▏         | 3.62M/186M [00:00<00:30, 6.36MB/s]\n",
      "  3%|▎         | 4.88M/186M [00:00<00:24, 7.79MB/s]\n",
      "  3%|▎         | 6.12M/186M [00:01<00:21, 8.95MB/s]\n",
      "  4%|▍         | 7.38M/186M [00:01<00:18, 10.1MB/s]\n",
      "  5%|▍         | 8.62M/186M [00:01<00:17, 10.7MB/s]\n",
      "  5%|▌         | 10.0M/186M [00:01<00:15, 11.7MB/s]\n",
      "  6%|▌         | 11.2M/186M [00:01<00:18, 9.81MB/s]\n",
      "  7%|▋         | 12.6M/186M [00:01<00:18, 9.87MB/s]\n",
      "  8%|▊         | 14.0M/186M [00:01<00:16, 10.8MB/s]\n",
      "  8%|▊         | 15.8M/186M [00:01<00:14, 12.7MB/s]\n",
      "  9%|▉         | 17.4M/186M [00:01<00:12, 13.7MB/s]\n",
      " 10%|█         | 19.2M/186M [00:02<00:11, 15.3MB/s]\n",
      " 11%|█         | 20.9M/186M [00:02<00:12, 14.0MB/s]\n",
      " 12%|█▏        | 22.5M/186M [00:02<00:11, 14.5MB/s]\n",
      " 13%|█▎        | 24.4M/186M [00:02<00:10, 15.8MB/s]\n",
      " 14%|█▍        | 26.1M/186M [00:02<00:10, 16.3MB/s]\n",
      " 15%|█▌        | 28.0M/186M [00:02<00:09, 17.0MB/s]\n",
      " 16%|█▌        | 30.1M/186M [00:02<00:09, 16.5MB/s]\n",
      " 18%|█▊        | 32.8M/186M [00:02<00:08, 19.2MB/s]\n",
      " 19%|█▉        | 35.4M/186M [00:02<00:07, 21.4MB/s]\n",
      " 20%|██        | 38.0M/186M [00:03<00:06, 22.9MB/s]\n",
      " 22%|██▏       | 40.2M/186M [00:03<00:08, 18.9MB/s]\n",
      " 23%|██▎       | 43.4M/186M [00:03<00:06, 22.3MB/s]\n",
      " 25%|██▌       | 46.6M/186M [00:03<00:05, 25.3MB/s]\n",
      " 26%|██▋       | 49.2M/186M [00:03<00:05, 25.5MB/s]\n",
      " 28%|██▊       | 51.9M/186M [00:03<00:05, 23.5MB/s]\n",
      " 30%|██▉       | 55.0M/186M [00:03<00:05, 25.7MB/s]\n",
      " 31%|███▏      | 58.5M/186M [00:03<00:04, 28.5MB/s]\n",
      " 33%|███▎      | 61.4M/186M [00:04<00:05, 22.7MB/s]\n",
      " 35%|███▍      | 64.9M/186M [00:04<00:04, 25.9MB/s]\n",
      " 37%|███▋      | 68.5M/186M [00:04<00:04, 28.9MB/s]\n",
      " 38%|███▊      | 71.5M/186M [00:04<00:04, 25.7MB/s]\n",
      " 40%|████      | 75.2M/186M [00:04<00:04, 28.8MB/s]\n",
      " 42%|████▏     | 79.0M/186M [00:04<00:03, 31.3MB/s]\n",
      " 44%|████▍     | 82.2M/186M [00:04<00:03, 30.2MB/s]\n",
      " 46%|████▌     | 85.8M/186M [00:04<00:03, 31.8MB/s]\n",
      " 48%|████▊     | 89.4M/186M [00:04<00:03, 33.5MB/s]\n",
      " 50%|████▉     | 93.0M/186M [00:05<00:02, 34.7MB/s]\n",
      " 52%|█████▏    | 96.8M/186M [00:05<00:02, 36.0MB/s]\n",
      " 54%|█████▍    | 100M/186M [00:05<00:02, 34.4MB/s] \n",
      " 56%|█████▌    | 104M/186M [00:05<00:02, 35.9MB/s]\n",
      " 58%|█████▊    | 108M/186M [00:05<00:02, 35.3MB/s]\n",
      " 60%|█████▉    | 111M/186M [00:05<00:02, 35.6MB/s]\n",
      " 62%|██████▏   | 115M/186M [00:05<00:02, 37.0MB/s]\n",
      " 64%|██████▍   | 119M/186M [00:05<00:01, 38.0MB/s]\n",
      " 66%|██████▌   | 123M/186M [00:05<00:01, 37.1MB/s]\n",
      " 68%|██████▊   | 126M/186M [00:06<00:01, 37.6MB/s]\n",
      " 70%|██████▉   | 130M/186M [00:06<00:01, 34.1MB/s]\n",
      " 72%|███████▏  | 134M/186M [00:06<00:01, 36.8MB/s]\n",
      " 74%|███████▍  | 138M/186M [00:06<00:01, 37.1MB/s]\n",
      " 76%|███████▋  | 142M/186M [00:06<00:01, 37.9MB/s]\n",
      " 79%|███████▊  | 146M/186M [00:06<00:01, 38.7MB/s]\n",
      " 81%|████████  | 150M/186M [00:06<00:01, 35.2MB/s]\n",
      " 83%|████████▎ | 154M/186M [00:06<00:00, 35.8MB/s]\n",
      " 85%|████████▍ | 158M/186M [00:06<00:00, 37.4MB/s]\n",
      " 87%|████████▋ | 162M/186M [00:07<00:00, 37.8MB/s]\n",
      " 89%|████████▉ | 165M/186M [00:07<00:00, 38.0MB/s]\n",
      " 91%|█████████ | 169M/186M [00:07<00:00, 38.6MB/s]\n",
      " 93%|█████████▎| 173M/186M [00:07<00:00, 32.4MB/s]\n",
      " 95%|█████████▌| 177M/186M [00:07<00:00, 34.2MB/s]\n",
      " 97%|█████████▋| 180M/186M [00:07<00:00, 35.0MB/s]\n",
      " 99%|█████████▉| 184M/186M [00:07<00:00, 36.4MB/s]\n",
      "100%|██████████| 186M/186M [00:07<00:00, 25.2MB/s]\n",
      "Traceback (most recent call last):\n",
      "  File \"C:\\Users\\tuhin\\AppData\\Local\\Programs\\Python\\Python311\\Lib\\site-packages\\ultralytics\\engine\\trainer.py\", line 535, in get_dataset\n",
      "    data = check_det_dataset(self.args.data)\n",
      "           ^^^^^^^^^^^^^^^^^^^^^^^^^^^^^^^^^\n",
      "  File \"C:\\Users\\tuhin\\AppData\\Local\\Programs\\Python\\Python311\\Lib\\site-packages\\ultralytics\\data\\utils.py\", line 268, in check_det_dataset\n",
      "    file = check_file(dataset)\n",
      "           ^^^^^^^^^^^^^^^^^^^\n",
      "  File \"C:\\Users\\tuhin\\AppData\\Local\\Programs\\Python\\Python311\\Lib\\site-packages\\ultralytics\\utils\\checks.py\", line 518, in check_file\n",
      "    raise FileNotFoundError(f\"'{file}' does not exist\")\n",
      "FileNotFoundError: '{dataset.location}/data.yaml' does not exist\n",
      "\n",
      "The above exception was the direct cause of the following exception:\n",
      "\n",
      "Traceback (most recent call last):\n",
      "  File \"<frozen runpy>\", line 198, in _run_module_as_main\n",
      "  File \"<frozen runpy>\", line 88, in _run_code\n",
      "  File \"C:\\Users\\tuhin\\AppData\\Local\\Programs\\Python\\Python311\\Scripts\\yolo.exe\\__main__.py\", line 7, in <module>\n",
      "  File \"C:\\Users\\tuhin\\AppData\\Local\\Programs\\Python\\Python311\\Lib\\site-packages\\ultralytics\\cfg\\__init__.py\", line 830, in entrypoint\n",
      "    getattr(model, mode)(**overrides)  # default args from model\n",
      "    ^^^^^^^^^^^^^^^^^^^^^^^^^^^^^^^^^\n",
      "  File \"C:\\Users\\tuhin\\AppData\\Local\\Programs\\Python\\Python311\\Lib\\site-packages\\ultralytics\\engine\\model.py\", line 809, in train\n",
      "    self.trainer = (trainer or self._smart_load(\"trainer\"))(overrides=args, _callbacks=self.callbacks)\n",
      "                   ^^^^^^^^^^^^^^^^^^^^^^^^^^^^^^^^^^^^^^^^^^^^^^^^^^^^^^^^^^^^^^^^^^^^^^^^^^^^^^^^^^^\n",
      "  File \"C:\\Users\\tuhin\\AppData\\Local\\Programs\\Python\\Python311\\Lib\\site-packages\\ultralytics\\engine\\trainer.py\", line 133, in __init__\n",
      "    self.trainset, self.testset = self.get_dataset()\n",
      "                                  ^^^^^^^^^^^^^^^^^^\n",
      "  File \"C:\\Users\\tuhin\\AppData\\Local\\Programs\\Python\\Python311\\Lib\\site-packages\\ultralytics\\engine\\trainer.py\", line 539, in get_dataset\n",
      "    raise RuntimeError(emojis(f\"Dataset '{clean_url(self.args.data)}' error ❌ {e}\")) from e\n",
      "RuntimeError: Dataset '{dataset.location}/data.yaml' error  '{dataset.location}/data.yaml' does not exist\n"
     ]
    }
   ],
   "source": [
    "!yolo task = detect mode= train model= yolov5x.pt data={dataset.location}/data.yaml epochs=100 imgsz=640 "
   ]
  },
  {
   "cell_type": "code",
   "execution_count": null,
   "metadata": {},
   "outputs": [],
   "source": [
    "!pip install ultralytics\n",
    "\n",
    "!pip install roboflow\n",
    "\n",
    "from roboflow import Roboflow\n",
    "rf = Roboflow(api_key=\"AsPJEbyVyPPot0bsQJmF\")\n",
    "project = rf.workspace(\"roboflow-jvuqo\").project(\"football-players-detection-3zvbc\")\n",
    "version = project.version(1)\n",
    "dataset = version.download(\"yolov5\")\n",
    "\n",
    "dataset.location\n",
    "\n",
    "import shutil\n",
    "\n",
    "shutil.move('football-players-detection-1/train',\n",
    "            'football-players-detection-1/football-players-detection-1/train'\n",
    "            )\n",
    "\n",
    "shutil.move('football-players-detection-1/test',\n",
    "            'football-players-detection-1/football-players-detection-1/test'\n",
    "            )\n",
    "\n",
    "shutil.move('football-players-detection-1/valid',\n",
    "            'football-players-detection-1/football-players-detection-1/valid'\n",
    "            )\n",
    "\n",
    "!yolo task=detect mode=train model=yolov5x.pt data={dataset.location}/data.yaml epochs=100 imgsz=640"
   ]
  }
 ],
 "metadata": {
  "kernelspec": {
   "display_name": "Python 3",
   "language": "python",
   "name": "python3"
  },
  "language_info": {
   "codemirror_mode": {
    "name": "ipython",
    "version": 3
   },
   "file_extension": ".py",
   "mimetype": "text/x-python",
   "name": "python",
   "nbconvert_exporter": "python",
   "pygments_lexer": "ipython3",
   "version": "3.11.6"
  }
 },
 "nbformat": 4,
 "nbformat_minor": 2
}
